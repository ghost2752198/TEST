{
  "nbformat": 4,
  "nbformat_minor": 0,
  "metadata": {
    "colab": {
      "provenance": [],
      "authorship_tag": "ABX9TyMFHYXF++nxXRvE6KrX0xTX",
      "include_colab_link": true
    },
    "kernelspec": {
      "name": "python3",
      "display_name": "Python 3"
    },
    "language_info": {
      "name": "python"
    }
  },
  "cells": [
    {
      "cell_type": "markdown",
      "metadata": {
        "id": "view-in-github",
        "colab_type": "text"
      },
      "source": [
        "<a href=\"https://colab.research.google.com/github/ghost2752198/TEST/blob/main/241224.ipynb\" target=\"_parent\"><img src=\"https://colab.research.google.com/assets/colab-badge.svg\" alt=\"Open In Colab\"/></a>"
      ]
    },
    {
      "cell_type": "code",
      "execution_count": 11,
      "metadata": {
        "colab": {
          "base_uri": "https://localhost:8080/"
        },
        "id": "tIB4uHTgbDIy",
        "outputId": "8a58e353-c7c9-4b07-e7fe-a950a8196e5a"
      },
      "outputs": [
        {
          "output_type": "stream",
          "name": "stdout",
          "text": [
            "請輸入你的體重： \n",
            "你的體重是：70\n",
            "你的身高是：175\n",
            "你的BMI是：22.857142857142858\n",
            "\n"
          ]
        }
      ],
      "source": [
        "# BMI = Weight(kg) / Height(m) ^ 2\n",
        "Weight = 70\n",
        "Height = 175\n",
        "print(\"請輸入你的體重： \")\n",
        "print(\"你的體重是：\" + str(Weight))\n",
        "print(\"你的身高是：\" + str(Height))\n",
        "print(\"你的BMI是：\" + str(Weight / (Height / 100) ** 2)) # print(70 / (175 / 100) ** 2)\n",
        "print() # 就算沒有參數，也要有小括號。"
      ]
    },
    {
      "cell_type": "code",
      "source": [],
      "metadata": {
        "id": "xKr5Uy_g6skL"
      },
      "execution_count": null,
      "outputs": []
    },
    {
      "cell_type": "code",
      "source": [
        "import decimail # 十進制\n",
        "\n",
        "print(decimail.Decimail(\"3\") + decimail.Decimail(\"\") )"
      ],
      "metadata": {
        "id": "o76jLaz-xZ2O"
      },
      "execution_count": null,
      "outputs": []
    }
  ]
}