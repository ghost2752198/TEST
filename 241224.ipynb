{
  "nbformat": 4,
  "nbformat_minor": 0,
  "metadata": {
    "colab": {
      "provenance": [],
      "authorship_tag": "ABX9TyMOmF0+9Lu5f+abx54soWG2",
      "include_colab_link": true
    },
    "kernelspec": {
      "name": "python3",
      "display_name": "Python 3"
    },
    "language_info": {
      "name": "python"
    }
  },
  "cells": [
    {
      "cell_type": "markdown",
      "metadata": {
        "id": "view-in-github",
        "colab_type": "text"
      },
      "source": [
        "<a href=\"https://colab.research.google.com/github/ghost2752198/TEST/blob/main/241224.ipynb\" target=\"_parent\"><img src=\"https://colab.research.google.com/assets/colab-badge.svg\" alt=\"Open In Colab\"/></a>"
      ]
    },
    {
      "cell_type": "code",
      "execution_count": 26,
      "metadata": {
        "colab": {
          "base_uri": "https://localhost:8080/"
        },
        "id": "tIB4uHTgbDIy",
        "outputId": "231fbe6d-ef82-4dbb-c9c0-b034f74a162c"
      },
      "outputs": [
        {
          "output_type": "stream",
          "name": "stdout",
          "text": [
            "請輸入你的體重： 52\n",
            "請輸入你的身高： 163\n",
            "你的體重是：52.0\n",
            "你的身高是：163.0\n",
            "你的BMI是：19.57168128269788\n",
            "\n",
            "正常\n"
          ]
        }
      ],
      "source": [
        "# BMI = Weight(kg) / Height(m) ^ 2\n",
        "Weight = float(input(\"請輸入你的體重： \"))\n",
        "Height = float(input(\"請輸入你的身高： \"))\n",
        "BMI = Weight / (Height / 100) ** 2\n",
        "\n",
        "print(\"你的體重是：\" + str(Weight))\n",
        "print(\"你的身高是：\" + str(Height))\n",
        "print(\"你的BMI是：\" + str(BMI) )\n",
        "print() # 就算沒有參數，也要有小括號。\n",
        "\n",
        "\n",
        "if BMI > 25:\n",
        "    print(\"過重\")\n",
        "    print(\"少吃多動\")\n",
        "else:\n",
        "    print(\"正常\")\n",
        "\n",
        "\n"
      ]
    },
    {
      "cell_type": "code",
      "source": [
        "import decimal # 十進制\n",
        "print(3 + 3.14)\n",
        "print(decimal.Decimal(\"3\") + decimal.Decimal(\"3.14\") )"
      ],
      "metadata": {
        "colab": {
          "base_uri": "https://localhost:8080/"
        },
        "id": "o76jLaz-xZ2O",
        "outputId": "b6e5e07d-54dd-4b18-9ca2-b5cee1e637eb"
      },
      "execution_count": 13,
      "outputs": [
        {
          "output_type": "stream",
          "name": "stdout",
          "text": [
            "6.140000000000001\n",
            "6.14\n",
            "6.140000000000001\n",
            "6.14\n"
          ]
        }
      ]
    },
    {
      "cell_type": "code",
      "source": [
        "a = 5\n",
        "a + 2\n",
        "print(a)"
      ],
      "metadata": {
        "colab": {
          "base_uri": "https://localhost:8080/"
        },
        "id": "n_iYYhmeP7i0",
        "outputId": "85fcf184-e856-49c4-b70e-1f108d4461a1"
      },
      "execution_count": 21,
      "outputs": [
        {
          "output_type": "stream",
          "name": "stdout",
          "text": [
            "5\n"
          ]
        }
      ]
    },
    {
      "cell_type": "code",
      "source": [],
      "metadata": {
        "id": "qdtKmBNoP7sh"
      },
      "execution_count": null,
      "outputs": []
    },
    {
      "cell_type": "code",
      "source": [],
      "metadata": {
        "id": "T57wSlulP7wZ"
      },
      "execution_count": null,
      "outputs": []
    }
  ]
}