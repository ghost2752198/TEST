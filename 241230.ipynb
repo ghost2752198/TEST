{
  "nbformat": 4,
  "nbformat_minor": 0,
  "metadata": {
    "colab": {
      "provenance": [],
      "include_colab_link": true
    },
    "kernelspec": {
      "name": "python3",
      "display_name": "Python 3"
    },
    "language_info": {
      "name": "python"
    }
  },
  "cells": [
    {
      "cell_type": "markdown",
      "metadata": {
        "id": "view-in-github",
        "colab_type": "text"
      },
      "source": [
        "<a href=\"https://colab.research.google.com/github/ghost2752198/TEST/blob/main/241230.ipynb\" target=\"_parent\"><img src=\"https://colab.research.google.com/assets/colab-badge.svg\" alt=\"Open In Colab\"/></a>"
      ]
    },
    {
      "cell_type": "markdown",
      "source": [
        "# 迴圈\n",
        "\n",
        "```python\n",
        "part1. 重複n次: 從0次數到n-1次\n",
        "10: 0 1 ... 9\n",
        "\n",
        "準備一個計數器\n",
        "1. 初始化: i = 0\n",
        "2. 判斷: i < 10\n",
        "3. 增加: i = i + 1\n",
        "\n",
        "i = 0\n",
        "while i < 10:\n",
        "    print(i)\n",
        "    i = i + 1\n",
        "\n",
        "!!!好習慣: 這三行妳絕對不改\n",
        "1. 次數就在<後面\n",
        "2. 數: 0 1 ... 次-1\n",
        "\n",
        "Q1. 1 2 ... 10\n",
        "A1. i + 1\n",
        "\n",
        "Q2. 10 9 ... 1\n",
        "A2. 10 - i\n",
        "\n",
        "Q3. 1 3 5 7\n",
        "A3. 2 * i + 1\n",
        "```"
      ],
      "metadata": {
        "id": "aWt7Ww0zH0dj"
      }
    },
    {
      "cell_type": "code",
      "source": [
        "i = 0\n",
        "while i < 10:\n",
        "    print(5 + i,\n",
        "       20 - i,\n",
        "       2 * i + 1,\n",
        "       # 50 47 44\n",
        "       50 - 3 * i)\n",
        "    i = i + 1"
      ],
      "metadata": {
        "colab": {
          "base_uri": "https://localhost:8080/"
        },
        "id": "IOgM1Ag3SX0M",
        "outputId": "87e60141-b35b-4da4-ccb9-f65f4122085e"
      },
      "execution_count": null,
      "outputs": [
        {
          "output_type": "stream",
          "name": "stdout",
          "text": [
            "5 20 1 50\n",
            "6 19 3 47\n",
            "7 18 5 44\n",
            "8 17 7 41\n",
            "9 16 9 38\n",
            "10 15 11 35\n",
            "11 14 13 32\n",
            "12 13 15 29\n",
            "13 12 17 26\n",
            "14 11 19 23\n"
          ]
        }
      ]
    },
    {
      "cell_type": "code",
      "source": [],
      "metadata": {
        "id": "Gin1MamcddE3"
      },
      "execution_count": null,
      "outputs": []
    },
    {
      "cell_type": "markdown",
      "source": [
        "```python\n",
        "o\n",
        "oo\n",
        "ooo\n",
        "oooo\n",
        "ooooo\n",
        "\n",
        "...o\n",
        "..oo\n",
        ".ooo\n",
        "oooo\n",
        "\n",
        "```"
      ],
      "metadata": {
        "id": "7TaOJZBwbr-6"
      }
    },
    {
      "cell_type": "code",
      "source": [
        "# 不良示範 因為妳檢討完發現四種其實是同一個問題\n",
        "# 應該統一處理(這個妳也該印空白鍵)\n",
        "i = 0\n",
        "while i < 10:\n",
        "    print(\"x\" * (i + 1))\n",
        "    i = i + 1"
      ],
      "metadata": {
        "colab": {
          "base_uri": "https://localhost:8080/"
        },
        "id": "9i4R3dONaxkC",
        "outputId": "9aeb6c3d-acd2-4156-a3b0-424dc2ccb4cc"
      },
      "execution_count": 45,
      "outputs": [
        {
          "output_type": "stream",
          "name": "stdout",
          "text": [
            "x\n",
            "xx\n",
            "xxx\n",
            "xxxx\n",
            "xxxxx\n",
            "xxxxxx\n",
            "xxxxxxx\n",
            "xxxxxxxx\n",
            "xxxxxxxxx\n",
            "xxxxxxxxxx\n"
          ]
        }
      ]
    },
    {
      "cell_type": "code",
      "source": [
        "height = 10\n",
        "Lsymbol, Rsymbol = \" \", \"o\"\n",
        "i = 0\n",
        "k = 1\n",
        "while i < height:\n",
        "    # 正項\n",
        "    Lcount1 = height - i - 1\n",
        "    Rcount1 = i + 1\n",
        "    print(Lsymbol * Lcount1 +\n",
        "       Rsymbol * Rcount1)\n",
        "    i = i + 1\n",
        "while k < height:\n",
        "    # 顛倒\n",
        "    Lcont2 = k\n",
        "    Rcount2 = height - k\n",
        "    print(Lsymbol * Lcont2 +\n",
        "       Rsymbol * Rcount2)\n",
        "    k = k + 1"
      ],
      "metadata": {
        "colab": {
          "base_uri": "https://localhost:8080/"
        },
        "id": "TsXI7C4OhZco",
        "outputId": "553368f0-a20d-4a61-8f7c-8c01b684e2f2"
      },
      "execution_count": 51,
      "outputs": [
        {
          "output_type": "stream",
          "name": "stdout",
          "text": [
            "         o\n",
            "        oo\n",
            "       ooo\n",
            "      oooo\n",
            "     ooooo\n",
            "    oooooo\n",
            "   ooooooo\n",
            "  oooooooo\n",
            " ooooooooo\n",
            "oooooooooo\n",
            " ooooooooo\n",
            "  oooooooo\n",
            "   ooooooo\n",
            "    oooooo\n",
            "     ooooo\n",
            "      oooo\n",
            "       ooo\n",
            "        oo\n",
            "         o\n"
          ]
        }
      ]
    },
    {
      "cell_type": "code",
      "source": [],
      "metadata": {
        "id": "2z95aRC4b4BY"
      },
      "execution_count": null,
      "outputs": []
    },
    {
      "cell_type": "markdown",
      "source": [
        "```python\n",
        "\n",
        "例題1\n",
        "\n",
        "ooooooo\n",
        ".ooooo.\n",
        "..ooo..\n",
        "...o...\n",
        "\n",
        "```"
      ],
      "metadata": {
        "id": "Wll1rlHchWeh"
      }
    },
    {
      "cell_type": "code",
      "source": [
        "height = 5\n",
        "Lsymbol, Msymbol, Rsymbol = \" \", \"o\", \" \"\n",
        "i = 0\n",
        "while i < hight:\n",
        "    Lcoint = i\n",
        "    Mcoint = (height * 2 - 1) - 2 * i\n",
        "    Rcoint = i\n",
        "    print(Lsymbol * Lcoint +\n",
        "       Msymbol * Mcoint +\n",
        "       Rsymbol * Rcoint)\n",
        "    i = i + 1"
      ],
      "metadata": {
        "colab": {
          "base_uri": "https://localhost:8080/"
        },
        "outputId": "b394b7e1-697d-4e0a-b583-dd71b9cfeede",
        "id": "mD8wVH4oiqe0"
      },
      "execution_count": 50,
      "outputs": [
        {
          "output_type": "stream",
          "name": "stdout",
          "text": [
            "ooooooooo\n",
            " ooooooo \n",
            "  ooooo  \n",
            "   ooo   \n",
            "    o    \n",
            "          \n",
            "            \n",
            "              \n",
            "                \n",
            "                  \n"
          ]
        }
      ]
    },
    {
      "cell_type": "markdown",
      "source": [
        "```python\n",
        "\n",
        "ooooooooo\n",
        ".xxxxxxx.\n",
        "..ooooo..\n",
        "...xxx...\n",
        "....o....\n",
        "\n",
        "\n",
        "\n",
        "```"
      ],
      "metadata": {
        "id": "IRYRnXSqm7Mw"
      }
    },
    {
      "cell_type": "code",
      "source": [
        "height = 5\n",
        "i = 0\n",
        "\n",
        "\n",
        "while i < height:\n",
        "    # 奇數層: i = 0 2 4 6 8\n",
        "    if i % 2 == 0:\n",
        "        lsymbol, msymbol, rsymbol = \" \", \"o\", \" \"\n",
        "    # 偶數層(% 2 == 1)\n",
        "    else:\n",
        "        lsymbol, msymbol, rsymbol = \" \", \"x\", \" \"\n",
        "    lcount = i\n",
        "    mcount = (2 * height - 1) - 2 * i\n",
        "    rcount = i\n",
        "    print(lsymbol * lcount +\n",
        "       msymbol * mcount +\n",
        "       rsymbol * rcount)\n",
        "    i = i + 1"
      ],
      "metadata": {
        "colab": {
          "base_uri": "https://localhost:8080/"
        },
        "outputId": "4cba322a-e8a0-4bd9-93aa-87e27068613b",
        "id": "36TmYSueogXt"
      },
      "execution_count": 53,
      "outputs": [
        {
          "output_type": "stream",
          "name": "stdout",
          "text": [
            "ooooooooo\n",
            " xxxxxxx \n",
            "  ooooo  \n",
            "   xxx   \n",
            "    o    \n"
          ]
        }
      ]
    },
    {
      "cell_type": "code",
      "source": [],
      "metadata": {
        "id": "w4Kd0NZhikVR"
      },
      "execution_count": null,
      "outputs": []
    },
    {
      "cell_type": "markdown",
      "source": [
        "```python\n",
        "\n",
        "編碼: 我 -> 0101010101\n",
        "解碼: 01100101010 -> 我\n",
        "\n",
        "編碼和解碼(以前) 各國自行規定\n",
        "繁體中文: BIG5\n",
        "簡體中文: GBK\n",
        "\n",
        "亂碼原因: 編碼和解碼使用的不一致\n",
        "\n",
        "(現在) 全世界只有一套編碼(Unicode 萬國碼)\n",
        "我們目前使用的就只有Unicode裡面一個分支utf-8\n",
        "\n",
        "```"
      ],
      "metadata": {
        "id": "-TpkjnvMqCeA"
      }
    },
    {
      "cell_type": "code",
      "source": [
        "symbols = [\"\\u2660\", \"\\u2661\", \"\\u2662\", \"\\u2663\"]\n",
        "height = 20\n",
        "i = 0\n",
        "while i < height:\n",
        "    # 符號\n",
        "    lsymbol = \" \"\n",
        "    msymbol = symbols[i%len(symbols)]\n",
        "    rsymbol = \" \"\n",
        "    # 數目\n",
        "    lcount = i\n",
        "    mcount = (2 * height - 1) - 2 * i\n",
        "    rcount = i\n",
        "    print(lsymbol * lcount +\n",
        "       msymbol * mcount +\n",
        "       rsymbol * rcount)\n",
        "    i = i + 1"
      ],
      "metadata": {
        "colab": {
          "base_uri": "https://localhost:8080/"
        },
        "id": "hMw_HOX9YZqu",
        "outputId": "93c554c4-f106-4eb5-bfa6-b6806da19eba"
      },
      "execution_count": 54,
      "outputs": [
        {
          "output_type": "stream",
          "name": "stdout",
          "text": [
            "♠♠♠♠♠♠♠♠♠♠♠♠♠♠♠♠♠♠♠♠♠♠♠♠♠♠♠♠♠♠♠♠♠♠♠♠♠♠♠\n",
            " ♡♡♡♡♡♡♡♡♡♡♡♡♡♡♡♡♡♡♡♡♡♡♡♡♡♡♡♡♡♡♡♡♡♡♡♡♡ \n",
            "  ♢♢♢♢♢♢♢♢♢♢♢♢♢♢♢♢♢♢♢♢♢♢♢♢♢♢♢♢♢♢♢♢♢♢♢  \n",
            "   ♣♣♣♣♣♣♣♣♣♣♣♣♣♣♣♣♣♣♣♣♣♣♣♣♣♣♣♣♣♣♣♣♣   \n",
            "    ♠♠♠♠♠♠♠♠♠♠♠♠♠♠♠♠♠♠♠♠♠♠♠♠♠♠♠♠♠♠♠    \n",
            "     ♡♡♡♡♡♡♡♡♡♡♡♡♡♡♡♡♡♡♡♡♡♡♡♡♡♡♡♡♡     \n",
            "      ♢♢♢♢♢♢♢♢♢♢♢♢♢♢♢♢♢♢♢♢♢♢♢♢♢♢♢      \n",
            "       ♣♣♣♣♣♣♣♣♣♣♣♣♣♣♣♣♣♣♣♣♣♣♣♣♣       \n",
            "        ♠♠♠♠♠♠♠♠♠♠♠♠♠♠♠♠♠♠♠♠♠♠♠        \n",
            "         ♡♡♡♡♡♡♡♡♡♡♡♡♡♡♡♡♡♡♡♡♡         \n",
            "          ♢♢♢♢♢♢♢♢♢♢♢♢♢♢♢♢♢♢♢          \n",
            "           ♣♣♣♣♣♣♣♣♣♣♣♣♣♣♣♣♣           \n",
            "            ♠♠♠♠♠♠♠♠♠♠♠♠♠♠♠            \n",
            "             ♡♡♡♡♡♡♡♡♡♡♡♡♡             \n",
            "              ♢♢♢♢♢♢♢♢♢♢♢              \n",
            "               ♣♣♣♣♣♣♣♣♣               \n",
            "                ♠♠♠♠♠♠♠                \n",
            "                 ♡♡♡♡♡                 \n",
            "                  ♢♢♢                  \n",
            "                   ♣                   \n"
          ]
        }
      ]
    },
    {
      "cell_type": "code",
      "source": [],
      "metadata": {
        "id": "Wr33Am0LdIBG"
      },
      "execution_count": null,
      "outputs": []
    },
    {
      "cell_type": "code",
      "source": [],
      "metadata": {
        "id": "ekbS3E6DdIiX"
      },
      "execution_count": null,
      "outputs": []
    },
    {
      "cell_type": "markdown",
      "source": [
        "# 迴圈第二part\n",
        "\n",
        "```python\n",
        "有記憶體的迴圈 - 記憶體要取個名字, 放在迴圈外面\n",
        "!!! 拒絕跳躍性思考\n",
        "\n",
        "```"
      ],
      "metadata": {
        "id": "pk3nVvezFnA5"
      }
    },
    {
      "cell_type": "code",
      "source": [
        "total = 0\n",
        "i = 0\n",
        "while i < 10:\n",
        "    total = total + (i + 1)\n",
        "    print(total)\n",
        "    i = i + 1"
      ],
      "metadata": {
        "colab": {
          "base_uri": "https://localhost:8080/"
        },
        "id": "KwH65wIKham6",
        "outputId": "d90314b0-2f4d-4efe-8a40-d165ac5cb617"
      },
      "execution_count": 39,
      "outputs": [
        {
          "output_type": "stream",
          "name": "stdout",
          "text": [
            "1\n",
            "3\n",
            "6\n",
            "10\n",
            "15\n",
            "21\n",
            "28\n",
            "36\n",
            "45\n",
            "55\n"
          ]
        }
      ]
    },
    {
      "cell_type": "code",
      "source": [
        "# 補0, 取商, 取餘。\n",
        "a, b = 2, 7\n",
        "ans = \"0.\"\n",
        "\n",
        "i = 0\n",
        "while i < 10:\n",
        "    # 2 -> 20 (補0)\n",
        "    a10 = a * 10\n",
        "    # 20 // 7 -> 0.2 (取商)\n",
        "    ans = ans + str(a10 // b)\n",
        "    # 20 % 7 (取餘)\n",
        "    a = a10 % b\n",
        "\n",
        "    print(ans)\n",
        "    i = i + 1"
      ],
      "metadata": {
        "colab": {
          "base_uri": "https://localhost:8080/"
        },
        "id": "lRL8r-eBI0kV",
        "outputId": "af41e097-8993-4e9a-abb2-d4ccd05ddb59"
      },
      "execution_count": 42,
      "outputs": [
        {
          "output_type": "stream",
          "name": "stdout",
          "text": [
            "0.2\n",
            "0.28\n",
            "0.285\n",
            "0.2857\n",
            "0.28571\n",
            "0.285714\n",
            "0.2857142\n",
            "0.28571428\n",
            "0.285714285\n",
            "0.2857142857\n"
          ]
        }
      ]
    },
    {
      "cell_type": "code",
      "source": [
        "s = \"asdfsDfgvv   ,, WqrRrwqr. wQr123123rqw5tAfg\"\n",
        "# 英文大小寫, 妳要幫我統計出來s裡面有多少個小寫 多少個大寫\n",
        "lcase, ucase = 0, 0\n",
        "i = 0\n",
        "while i < len(s):\n",
        "    n = ord(s[i])\n",
        "    if ord(\"A\") <= n <= ord(\"Z\"):\n",
        "        ucase = ucase + 1\n",
        "    elif ord(\"a\") <= n <= ord(\"z\"):\n",
        "        lcase = lcase + 1\n",
        "    i = i + 1\n",
        "print(ucase, lcase)"
      ],
      "metadata": {
        "colab": {
          "base_uri": "https://localhost:8080/"
        },
        "id": "jZ-R-ErVZWFA",
        "outputId": "a00ec35f-cb89-4218-8434-d03588d1641f"
      },
      "execution_count": 43,
      "outputs": [
        {
          "output_type": "stream",
          "name": "stdout",
          "text": [
            "5 23\n"
          ]
        }
      ]
    },
    {
      "cell_type": "code",
      "source": [
        "# 妳要幫我統計大小寫字母每一個字母各自有幾個\n",
        "s = \"asdfsDfgvv   ,, WqrRrwqr. wQr123123rqw5tAfg\"\n",
        "ucases = [0] * 26\n",
        "lcases = [0] * 26\n",
        "i = 0\n",
        "while i < len(s):\n",
        "    n = ord(s[i])\n",
        "    if ord(\"A\") <= n <= ord(\"Z\"):\n",
        "        # 65 - 90 -> 0 - 25\n",
        "        n = n - ord(\"A\")\n",
        "        ucases[n] = ucases[n] + 1\n",
        "    elif ord(\"a\") <= n <= ord(\"z\"):\n",
        "        # 97 - 122 -> 0 - 25\n",
        "        n = n - ord(\"a\")\n",
        "        lcases[n] = lcases[n] + 1\n",
        "    i = i + 1\n",
        "print(ucases)\n",
        "print(lcases)\n",
        "\n",
        "# 印出26行\n",
        "# A: 5  a: 3\n",
        "# B: 2  b: 4\n",
        "# chr(97) -> \"a\" chr(65) -> \"A\"\n",
        "i = 0\n",
        "while i < len(ucases):\n",
        "    c1, c2 = chr(i + ord(\"A\")), chr(i + ord(\"a\"))\n",
        "    n1, n2 = ucases[i], lcases[i]\n",
        "    print(c1, n1, \"/\", c2, n2)\n",
        "    i = i + 1"
      ],
      "metadata": {
        "colab": {
          "base_uri": "https://localhost:8080/"
        },
        "id": "tDqAkKriZboy",
        "outputId": "1351ce12-ecef-4f04-8d93-393d8f40c7fd"
      },
      "execution_count": 44,
      "outputs": [
        {
          "output_type": "stream",
          "name": "stdout",
          "text": [
            "[1, 0, 0, 1, 0, 0, 0, 0, 0, 0, 0, 0, 0, 0, 0, 0, 1, 1, 0, 0, 0, 0, 1, 0, 0, 0]\n",
            "[1, 0, 0, 1, 0, 3, 2, 0, 0, 0, 0, 0, 0, 0, 0, 0, 3, 5, 2, 1, 0, 2, 3, 0, 0, 0]\n",
            "A 1 / a 1\n",
            "B 0 / b 0\n",
            "C 0 / c 0\n",
            "D 1 / d 1\n",
            "E 0 / e 0\n",
            "F 0 / f 3\n",
            "G 0 / g 2\n",
            "H 0 / h 0\n",
            "I 0 / i 0\n",
            "J 0 / j 0\n",
            "K 0 / k 0\n",
            "L 0 / l 0\n",
            "M 0 / m 0\n",
            "N 0 / n 0\n",
            "O 0 / o 0\n",
            "P 0 / p 0\n",
            "Q 1 / q 3\n",
            "R 1 / r 5\n",
            "S 0 / s 2\n",
            "T 0 / t 1\n",
            "U 0 / u 0\n",
            "V 0 / v 2\n",
            "W 1 / w 3\n",
            "X 0 / x 0\n",
            "Y 0 / y 0\n",
            "Z 0 / z 0\n"
          ]
        }
      ]
    },
    {
      "cell_type": "code",
      "source": [],
      "metadata": {
        "id": "khBoAUv0ZdIF"
      },
      "execution_count": null,
      "outputs": []
    },
    {
      "cell_type": "code",
      "source": [],
      "metadata": {
        "id": "GCF9I1xwdP91"
      },
      "execution_count": null,
      "outputs": []
    },
    {
      "cell_type": "code",
      "source": [],
      "metadata": {
        "id": "csDb0aindQGC"
      },
      "execution_count": null,
      "outputs": []
    }
  ]
}